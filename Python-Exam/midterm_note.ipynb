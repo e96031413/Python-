{
 "cells": [
  {
   "cell_type": "markdown",
   "metadata": {},
   "source": [
    "### 團體題第一題"
   ]
  },
  {
   "cell_type": "code",
   "execution_count": 15,
   "metadata": {},
   "outputs": [
    {
     "name": "stdout",
     "output_type": "stream",
     "text": [
      "First Integer:7\n",
      "Second Integer:24\n",
      "Third Integer:25\n",
      "7, 24, 25 可以形成三角形\n"
     ]
    }
   ],
   "source": [
    "s1 = int(input('First Integer:'))\n",
    "s2 = int(input('Second Integer:'))\n",
    "s3 = int(input('Third Integer:'))\n",
    "\n",
    "if (s1>=s2+s3) or (s2>=s1+s3) or (s3>=s1+s2):\n",
    "    print(f'{s1}, {s2}, {s3} 無法形成三角形')\n",
    "else:\n",
    "    print(f'{s1}, {s2}, {s3} 可以形成三角形')"
   ]
  },
  {
   "cell_type": "markdown",
   "metadata": {},
   "source": [
    "### 團體題第二題"
   ]
  },
  {
   "cell_type": "code",
   "execution_count": 20,
   "metadata": {},
   "outputs": [
    {
     "name": "stdout",
     "output_type": "stream",
     "text": [
      "[1, 5]\n",
      "[0, 3]\n"
     ]
    }
   ],
   "source": [
    "def findInd(urlist,elm):\n",
    "    ind = []\n",
    "    for i,item in enumerate(urlist):\n",
    "        if item==elm:\n",
    "            ind.append(i)\n",
    "    return ind\n",
    "\n",
    "ind1 = findInd([1,'a',2,1,'b','a'],'a')\n",
    "print(ind1)\n",
    "ind2 = findInd([1,'a',2,1,'b','a'],1)\n",
    "print(ind2)"
   ]
  },
  {
   "cell_type": "markdown",
   "metadata": {},
   "source": [
    "### 團體題第三題"
   ]
  },
  {
   "cell_type": "code",
   "execution_count": 16,
   "metadata": {},
   "outputs": [
    {
     "name": "stdout",
     "output_type": "stream",
     "text": [
      "2.5\n",
      "2.0\n"
     ]
    }
   ],
   "source": [
    "def strdist(str1,str2):\n",
    "    dist = 0\n",
    "    for s1,s2 in zip(str1,str2):\n",
    "        if s1==s2:\n",
    "            pass\n",
    "        elif (s1.lower()==s2.lower()):\n",
    "            dist=dist+0.5\n",
    "        else:\n",
    "            dist=dist+1\n",
    "    return dist\n",
    "\n",
    "str1='abCd'\n",
    "str2='bacd'\n",
    "dis = strdist(str1,str2)\n",
    "print(dis)\n",
    "str1='abCd'\n",
    "str2='Aacd'\n",
    "dis = strdist(str1,str2)\n",
    "print(dis)"
   ]
  },
  {
   "cell_type": "markdown",
   "metadata": {},
   "source": [
    "### 個人題第一題"
   ]
  },
  {
   "cell_type": "code",
   "execution_count": 17,
   "metadata": {},
   "outputs": [
    {
     "name": "stdout",
     "output_type": "stream",
     "text": [
      "44446\n",
      "81841\n",
      "81469\n",
      "32533\n",
      "65731\n",
      "62165\n",
      "96971\n",
      "25085\n",
      "24679\n",
      "40992\n"
     ]
    }
   ],
   "source": [
    "import random\n",
    "def codegen():\n",
    "    while(True):\n",
    "        num=[]\n",
    "        for i in range(0,4):\n",
    "            num.append(random.randint(0,9))\n",
    "        rem = sum(num)%10\n",
    "        num.append(rem)\n",
    "        codenum=''\n",
    "        for n in num:\n",
    "            codenum=codenum+str(n)\n",
    "        yield codenum\n",
    "\n",
    "mygen = codegen() \n",
    "for i in range(0,10):\n",
    "    print(next(mygen))"
   ]
  },
  {
   "cell_type": "markdown",
   "metadata": {},
   "source": [
    "### 個人題第二題"
   ]
  },
  {
   "cell_type": "code",
   "execution_count": 13,
   "metadata": {},
   "outputs": [
    {
     "name": "stdout",
     "output_type": "stream",
     "text": [
      "[1, 'a', 2, 'b', 3, 'c', 4, 5, 6]\n",
      "[1, 'a', 2, 'b', 3, 'c', 'd', 'e', 'f']\n"
     ]
    }
   ],
   "source": [
    "def mixlist(list1,list2):\n",
    "    n1 = len(list1)\n",
    "    n2 = len(list2)\n",
    "    mylist=[];\n",
    "    if n1>n2:\n",
    "        for i in range(0,n2):\n",
    "            mylist.extend([list1[i],list2[i]])\n",
    "        mylist.extend(list1[n2:n1])\n",
    "    else:\n",
    "        for i in range(0,n1):\n",
    "            mylist.extend([list1[i],list2[i]])\n",
    "        mylist.extend(list2[n1:n2])\n",
    "    return mylist\n",
    "\n",
    "# function call example\n",
    "mlist = mixlist([1,2,3,4,5,6],['a','b','c'])\n",
    "print(mlist)\n",
    "\n",
    "mlist = mixlist([1,2,3],['a','b','c','d','e','f'])\n",
    "print(mlist)"
   ]
  },
  {
   "cell_type": "markdown",
   "metadata": {},
   "source": [
    "### 個人題第三題"
   ]
  },
  {
   "cell_type": "code",
   "execution_count": 20,
   "metadata": {},
   "outputs": [
    {
     "name": "stdout",
     "output_type": "stream",
     "text": [
      "Name: Ian, Capacity: 46\n",
      "倒了 10，剩 36\n",
      "倒了  2，剩 34\n",
      "倒了  5，剩 29\n",
      "倒了  5，剩 24\n",
      "倒了  8，剩 16\n",
      "倒了  6，剩 10\n",
      "倒了  8，剩  2\n",
      "倒了  1，剩  1\n",
      "倒了  1，剩  0\n",
      "沒水了\n"
     ]
    }
   ],
   "source": [
    "import random\n",
    "class cup:\n",
    "    \n",
    "    def __init__(self,name):\n",
    "        self.name=name\n",
    "        self.capacity = random.randint(30,50)\n",
    "    def pour(self):\n",
    "        num = random.randint(1,10)\n",
    "        if self.capacity<=0:\n",
    "            print('沒水了')\n",
    "        elif self.capacity>=num:\n",
    "            self.capacity=self.capacity-num\n",
    "            print(f'倒了{num:3d}，剩{self.capacity:3d}')\n",
    "        else:\n",
    "            while(num>self.capacity):\n",
    "                num = random.randint(1,10)\n",
    "            self.capacity=self.capacity-num\n",
    "            print(f'倒了{num:3d}，剩{self.capacity:3d}')\n",
    "            \n",
    "    def __str__(self):\n",
    "        return 'Name: {}, Capacity:{:3d}'.format(self.name,self.capacity)\n",
    "        \n",
    "mycup=cup('Ian')\n",
    "print(mycup)\n",
    "for i in range(0,10):\n",
    "    mycup.pour()"
   ]
  },
  {
   "cell_type": "markdown",
   "metadata": {},
   "source": [
    "### 個人題第四題"
   ]
  },
  {
   "cell_type": "code",
   "execution_count": 21,
   "metadata": {},
   "outputs": [
    {
     "name": "stdout",
     "output_type": "stream",
     "text": [
      "==================\n",
      "| d/D: Forward   |\n",
      "| a/A: Backward  |\n",
      "| q/Q: Qiut      |\n",
      "==================\n",
      "Option: d\n",
      "_*________ (2/10)\n",
      "==================\n",
      "| d/D: Forward   |\n",
      "| a/A: Backward  |\n",
      "| q/Q: Qiut      |\n",
      "==================\n",
      "Option: d\n",
      "__*_______ (3/10)\n",
      "==================\n",
      "| d/D: Forward   |\n",
      "| a/A: Backward  |\n",
      "| q/Q: Qiut      |\n",
      "==================\n",
      "Option: a\n",
      "_*________ (2/10)\n",
      "==================\n",
      "| d/D: Forward   |\n",
      "| a/A: Backward  |\n",
      "| q/Q: Qiut      |\n",
      "==================\n",
      "Option: a\n",
      "*_________ (1/10)\n",
      "==================\n",
      "| d/D: Forward   |\n",
      "| a/A: Backward  |\n",
      "| q/Q: Qiut      |\n",
      "==================\n",
      "Option: a\n",
      "*** No Way to go! ***\n",
      "*_________ (1/10)\n",
      "==================\n",
      "| d/D: Forward   |\n",
      "| a/A: Backward  |\n",
      "| q/Q: Qiut      |\n",
      "==================\n",
      "Option: d\n",
      "_*________ (2/10)\n",
      "==================\n",
      "| d/D: Forward   |\n",
      "| a/A: Backward  |\n",
      "| q/Q: Qiut      |\n",
      "==================\n",
      "Option: d\n",
      "__*_______ (3/10)\n",
      "==================\n",
      "| d/D: Forward   |\n",
      "| a/A: Backward  |\n",
      "| q/Q: Qiut      |\n",
      "==================\n",
      "Option: d\n",
      "___*______ (4/10)\n",
      "==================\n",
      "| d/D: Forward   |\n",
      "| a/A: Backward  |\n",
      "| q/Q: Qiut      |\n",
      "==================\n",
      "Option: d\n",
      "____*_____ (5/10)\n",
      "==================\n",
      "| d/D: Forward   |\n",
      "| a/A: Backward  |\n",
      "| q/Q: Qiut      |\n",
      "==================\n",
      "Option: d\n",
      "_____*____ (6/10)\n",
      "==================\n",
      "| d/D: Forward   |\n",
      "| a/A: Backward  |\n",
      "| q/Q: Qiut      |\n",
      "==================\n",
      "Option: d\n",
      "______*___ (7/10)\n",
      "==================\n",
      "| d/D: Forward   |\n",
      "| a/A: Backward  |\n",
      "| q/Q: Qiut      |\n",
      "==================\n",
      "Option: d\n",
      "_______*__ (8/10)\n",
      "==================\n",
      "| d/D: Forward   |\n",
      "| a/A: Backward  |\n",
      "| q/Q: Qiut      |\n",
      "==================\n",
      "Option: d\n",
      "________*_ (9/10)\n",
      "==================\n",
      "| d/D: Forward   |\n",
      "| a/A: Backward  |\n",
      "| q/Q: Qiut      |\n",
      "==================\n",
      "Option: d\n",
      "_________* (10/10)\n",
      "==================\n",
      "| d/D: Forward   |\n",
      "| a/A: Backward  |\n",
      "| q/Q: Qiut      |\n",
      "==================\n",
      "Option: d\n",
      "*** No Way to go! ***\n",
      "_________* (10/10)\n",
      "==================\n",
      "| d/D: Forward   |\n",
      "| a/A: Backward  |\n",
      "| q/Q: Qiut      |\n",
      "==================\n",
      "Option: f\n",
      "*** Wrong option! Try again!! ***\n",
      "==================\n",
      "| d/D: Forward   |\n",
      "| a/A: Backward  |\n",
      "| q/Q: Qiut      |\n",
      "==================\n",
      "Option: 8\n",
      "*** Wrong option! Try again!! ***\n",
      "==================\n",
      "| d/D: Forward   |\n",
      "| a/A: Backward  |\n",
      "| q/Q: Qiut      |\n",
      "==================\n",
      "Option: q\n"
     ]
    }
   ],
   "source": [
    "move=''\n",
    "loc = 1\n",
    "maplen = 10\n",
    "while(move.lower()!='q'):\n",
    "    print('==================')\n",
    "    print('| d/D: Forward   |')\n",
    "    print('| a/A: Backward  |')\n",
    "    print('| q/Q: Qiut      |')\n",
    "    print('==================')\n",
    "    move = input('Option: ')\n",
    "    move = move.lower()\n",
    "    \n",
    "    if(move!='a' and move!='d' and move!='q'):\n",
    "        print('*** Wrong option! Try again!! ***')\n",
    "    else:\n",
    "        # compute the location and create the battle\n",
    "        if (move=='a'):\n",
    "            if (loc>1):\n",
    "                loc = loc-1\n",
    "            else:\n",
    "                print('*** No Way to go! ***')\n",
    "        elif(move=='d'):\n",
    "            if (loc<10):\n",
    "                loc = loc+1\n",
    "            else:\n",
    "                print('*** No Way to go! ***')\n",
    "        else:\n",
    "            pass\n",
    "\n",
    "        # print the map and location\n",
    "        if move!='q':\n",
    "            for i in range(1,maplen+1):\n",
    "                if (i==loc):\n",
    "                    print('*',end='')\n",
    "                else:\n",
    "                    print('_',end='')\n",
    "            print(' (',loc,'/',maplen,')',sep='')"
   ]
  },
  {
   "cell_type": "code",
   "execution_count": null,
   "metadata": {
    "collapsed": true
   },
   "outputs": [],
   "source": []
  },
  {
   "cell_type": "code",
   "execution_count": null,
   "metadata": {
    "collapsed": true
   },
   "outputs": [],
   "source": []
  }
 ],
 "metadata": {
  "kernelspec": {
   "display_name": "Python 3",
   "language": "python",
   "name": "python3"
  },
  "language_info": {
   "codemirror_mode": {
    "name": "ipython",
    "version": 3
   },
   "file_extension": ".py",
   "mimetype": "text/x-python",
   "name": "python",
   "nbconvert_exporter": "python",
   "pygments_lexer": "ipython3",
   "version": "3.6.6"
  }
 },
 "nbformat": 4,
 "nbformat_minor": 2
}
