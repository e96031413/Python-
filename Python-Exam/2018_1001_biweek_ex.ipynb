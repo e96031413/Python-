{
 "cells": [
  {
   "cell_type": "markdown",
   "metadata": {},
   "source": [
    "### 團體第一題"
   ]
  },
  {
   "cell_type": "code",
   "execution_count": 5,
   "metadata": {},
   "outputs": [
    {
     "name": "stdout",
     "output_type": "stream",
     "text": [
      "Input a number:10\n",
      "此數二進位為\t 0b1010\n",
      "此數八進位為\t 0o12\n",
      "此數十六進位為\t 0xa\n"
     ]
    }
   ],
   "source": [
    "x = input('Input a number:')\n",
    "num = int(x)\n",
    "print('此數二進位為\\t',bin(num))\n",
    "print('此數八進位為\\t',oct(num))\n",
    "print('此數十六進位為\\t',hex(num))"
   ]
  },
  {
   "cell_type": "markdown",
   "metadata": {},
   "source": [
    "### 團體第二題"
   ]
  },
  {
   "cell_type": "code",
   "execution_count": 2,
   "metadata": {},
   "outputs": [
    {
     "name": "stdout",
     "output_type": "stream",
     "text": [
      "Here are the data:\n",
      "Number1:  31,391. Socre:9.4000    \n",
      "Number2:   1,011. Socre:  9.8700  \n",
      "Number3:     214. Socre:  3.1410  \n",
      "Number3:  21,939. Socre:  952.7000\n"
     ]
    }
   ],
   "source": [
    "num = [31391,1011,214,21939]\n",
    "score = [9.4,9.87,3.141,952.7]\n",
    "print('Here are the data:')\n",
    "print('Number1:{0:8,d}. Socre:{1:<10.4f}'.format(num[0],score[0]))\n",
    "print('Number2:{0:8,d}. Socre:{1:^10.4f}'.format(num[1],score[1]))\n",
    "print('Number3:{0:8,d}. Socre:{1:^10.4f}'.format(num[2],score[2]))\n",
    "print('Number3:{0:8,d}. Socre:{1:>10.4f}'.format(num[3],score[3]))"
   ]
  },
  {
   "cell_type": "markdown",
   "metadata": {},
   "source": [
    "### 團體第三題"
   ]
  },
  {
   "cell_type": "code",
   "execution_count": 6,
   "metadata": {},
   "outputs": [
    {
     "name": "stdout",
     "output_type": "stream",
     "text": [
      "聯集:{1, 2, 3, 5, 6, 7, 9}\n",
      "交集:{3, 5}\n",
      "1-2差集:{9, 1}\n",
      "2-1差集:{2, 6, 7}\n"
     ]
    }
   ],
   "source": [
    "numset1={9,3,5,1,3}\n",
    "numset2={3,2,7,5,6}\n",
    "print(f'聯集:{numset1|numset2}')\n",
    "print(f'交集:{numset1&numset2}')\n",
    "print(f'1-2差集:{numset1-numset2}')\n",
    "print(f'2-1差集:{numset2-numset1}')"
   ]
  },
  {
   "cell_type": "markdown",
   "metadata": {},
   "source": [
    "### 團體第四題"
   ]
  },
  {
   "cell_type": "code",
   "execution_count": 7,
   "metadata": {},
   "outputs": [
    {
     "name": "stdout",
     "output_type": "stream",
     "text": [
      "一句中文:超幹的\n",
      "消音後：超逼逼逼的\n"
     ]
    }
   ],
   "source": [
    "x = input('一句中文:')\n",
    "y = x.replace('幹','逼逼逼')\n",
    "print(f'消音後：{y}')"
   ]
  },
  {
   "cell_type": "code",
   "execution_count": null,
   "metadata": {
    "collapsed": true
   },
   "outputs": [],
   "source": []
  }
 ],
 "metadata": {
  "kernelspec": {
   "display_name": "Python 3",
   "language": "python",
   "name": "python3"
  },
  "language_info": {
   "codemirror_mode": {
    "name": "ipython",
    "version": 3
   },
   "file_extension": ".py",
   "mimetype": "text/x-python",
   "name": "python",
   "nbconvert_exporter": "python",
   "pygments_lexer": "ipython3",
   "version": "3.6.3"
  }
 },
 "nbformat": 4,
 "nbformat_minor": 2
}
