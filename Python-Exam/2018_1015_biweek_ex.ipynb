{
 "cells": [
  {
   "cell_type": "markdown",
   "metadata": {},
   "source": [
    "### 團體第一題"
   ]
  },
  {
   "cell_type": "code",
   "execution_count": 1,
   "metadata": {},
   "outputs": [
    {
     "name": "stdout",
     "output_type": "stream",
     "text": [
      "First Integer:1\n",
      "Second Integer:1\n",
      "Third Integer:3\n",
      "1, 1, 3 無法形成三角形\n"
     ]
    }
   ],
   "source": [
    "s1 = int(input('First Integer:'))\n",
    "s2 = int(input('Second Integer:'))\n",
    "s3 = int(input('Third Integer:'))\n",
    "\n",
    "if (s1>=s2+s3) or (s2>=s1+s3) or (s3>=s1+s2):\n",
    "    print(f'{s1}, {s2}, {s3} 無法形成三角形')\n",
    "else:\n",
    "    print(f'{s1}, {s2}, {s3} 可以形成三角形')"
   ]
  },
  {
   "cell_type": "markdown",
   "metadata": {},
   "source": [
    "### 團體第二題"
   ]
  },
  {
   "cell_type": "code",
   "execution_count": 3,
   "metadata": {},
   "outputs": [
    {
     "name": "stdout",
     "output_type": "stream",
     "text": [
      "圓內點數：7852974\n",
      "圓內點數/所有點數*4：3.1412\n"
     ]
    }
   ],
   "source": [
    "import random\n",
    "\n",
    "inCnt = 0\n",
    "sample_size = 10000000\n",
    "for i in range(0,sample_size):\n",
    "    x = random.uniform(-1,1)\n",
    "    y = random.uniform(-1,1)\n",
    "    if (x**2+y**2<=1):\n",
    "        inCnt=inCnt+1\n",
    "\n",
    "num = (inCnt/sample_size)*4\n",
    "print(f'圓內點數：{inCnt:4d}')\n",
    "print(f'圓內點數/所有點數*4：{num:6.4f}')"
   ]
  },
  {
   "cell_type": "markdown",
   "metadata": {},
   "source": [
    "### 團體第三題"
   ]
  },
  {
   "cell_type": "code",
   "execution_count": 33,
   "metadata": {},
   "outputs": [
    {
     "name": "stdout",
     "output_type": "stream",
     "text": [
      "['Mary', 'Am']\n"
     ]
    }
   ],
   "source": [
    "def pickword(sentence,ch):\n",
    "    wordlist = sentence.split()\n",
    "    picklist =[];\n",
    "    for item in wordlist:\n",
    "        if ch.lower() in item.lower():\n",
    "            picklist.append(item)\n",
    "    return picklist\n",
    "\n",
    "mylist=pickword('Mary Am john','A')\n",
    "print(mylist)"
   ]
  },
  {
   "cell_type": "markdown",
   "metadata": {},
   "source": [
    "### 團體第四題"
   ]
  },
  {
   "cell_type": "code",
   "execution_count": 6,
   "metadata": {},
   "outputs": [
    {
     "name": "stdout",
     "output_type": "stream",
     "text": [
      "==================\n",
      "| 1: 加一         |\n",
      "| 2: 減一         |\n",
      "| 3: 離開         |\n",
      "==================\n",
      "Option: 2\n",
      "Current Number is   -1\n",
      "==================\n",
      "| 1: 加一         |\n",
      "| 2: 減一         |\n",
      "| 3: 離開         |\n",
      "==================\n",
      "Option: 2\n",
      "Current Number is   -2\n",
      "==================\n",
      "| 1: 加一         |\n",
      "| 2: 減一         |\n",
      "| 3: 離開         |\n",
      "==================\n",
      "Option: 1\n",
      "Current Number is   -1\n",
      "==================\n",
      "| 1: 加一         |\n",
      "| 2: 減一         |\n",
      "| 3: 離開         |\n",
      "==================\n",
      "Option: 1\n",
      "Current Number is    0\n",
      "==================\n",
      "| 1: 加一         |\n",
      "| 2: 減一         |\n",
      "| 3: 離開         |\n",
      "==================\n",
      "Option: 1\n",
      "Current Number is    1\n",
      "==================\n",
      "| 1: 加一         |\n",
      "| 2: 減一         |\n",
      "| 3: 離開         |\n",
      "==================\n",
      "Option: 4\n",
      "*** Wrong option! Try again!! ***\n",
      "==================\n",
      "| 1: 加一         |\n",
      "| 2: 減一         |\n",
      "| 3: 離開         |\n",
      "==================\n",
      "Option: t\n",
      "*** Wrong option! Try again!! ***\n",
      "==================\n",
      "| 1: 加一         |\n",
      "| 2: 減一         |\n",
      "| 3: 離開         |\n",
      "==================\n",
      "Option: 3\n"
     ]
    }
   ],
   "source": [
    "item=''\n",
    "curNum=0\n",
    "option_list=['1','2','3']\n",
    "\n",
    "while(item!='3'):\n",
    "    print('==================')\n",
    "    print('| 1: 加一         |')\n",
    "    print('| 2: 減一         |')\n",
    "    print('| 3: 離開         |')\n",
    "    print('==================')\n",
    "    item = input('Option: ')\n",
    "    \n",
    "    if (item not in option_list):\n",
    "        print('*** Wrong option! Try again!! ***')\n",
    "    else:\n",
    "        # compute current number\n",
    "        if (item=='1'):\n",
    "            curNum = curNum+1\n",
    "        elif(item=='2'):\n",
    "            curNum = curNum-1\n",
    "        else:\n",
    "            pass\n",
    "\n",
    "        # print current number\n",
    "        if item!='3':\n",
    "            print(f'Current Number is {curNum:4,d}')"
   ]
  },
  {
   "cell_type": "code",
   "execution_count": null,
   "metadata": {
    "collapsed": true
   },
   "outputs": [],
   "source": []
  }
 ],
 "metadata": {
  "kernelspec": {
   "display_name": "Python 3",
   "language": "python",
   "name": "python3"
  },
  "language_info": {
   "codemirror_mode": {
    "name": "ipython",
    "version": 3
   },
   "file_extension": ".py",
   "mimetype": "text/x-python",
   "name": "python",
   "nbconvert_exporter": "python",
   "pygments_lexer": "ipython3",
   "version": "3.6.3"
  }
 },
 "nbformat": 4,
 "nbformat_minor": 2
}
