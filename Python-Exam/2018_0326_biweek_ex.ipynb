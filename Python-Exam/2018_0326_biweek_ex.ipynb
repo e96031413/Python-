{
 "cells": [
  {
   "cell_type": "markdown",
   "metadata": {},
   "source": [
    "### 團體第一題"
   ]
  },
  {
   "cell_type": "code",
   "execution_count": 31,
   "metadata": {},
   "outputs": [
    {
     "name": "stdout",
     "output_type": "stream",
     "text": [
      "first:20\n",
      "second:30\n",
      "third:130\n",
      "為鈍角三角形\n"
     ]
    }
   ],
   "source": [
    "a = int(input('first:'));\n",
    "b = int(input('second:'));\n",
    "c = int(input('third:'));\n",
    "if a+b+c!=180:\n",
    "    print('無法形成三角形！')\n",
    "else:\n",
    "    flag = max([a,b,c])\n",
    "    if(flag>90):\n",
    "        print(\"為鈍角三角形\")\n",
    "    elif(flag==90):\n",
    "        print(\"為直角三角形\")\n",
    "    else:\n",
    "        print(\"為銳角三角形\")"
   ]
  },
  {
   "cell_type": "markdown",
   "metadata": {},
   "source": [
    "### 團體第二題"
   ]
  },
  {
   "cell_type": "code",
   "execution_count": 32,
   "metadata": {},
   "outputs": [
    {
     "name": "stdout",
     "output_type": "stream",
     "text": [
      "圓內點數：7818\n",
      "圓內點數/所有點數*4：3.1272\n"
     ]
    }
   ],
   "source": [
    "import random\n",
    "\n",
    "inCnt = 0\n",
    "sample_size = 10000\n",
    "for i in range(0,sample_size):\n",
    "    x = random.uniform(-1,1)\n",
    "    y = random.uniform(-1,1)\n",
    "    if (x**2+y**2<=1):\n",
    "        inCnt=inCnt+1\n",
    "\n",
    "num = (inCnt/sample_size)*4\n",
    "print(f'圓內點數：{inCnt:4d}')\n",
    "print(f'圓內點數/所有點數*4：{num:6.4f}')"
   ]
  },
  {
   "cell_type": "markdown",
   "metadata": {},
   "source": [
    "### 團體第三題"
   ]
  },
  {
   "cell_type": "code",
   "execution_count": 33,
   "metadata": {},
   "outputs": [
    {
     "name": "stdout",
     "output_type": "stream",
     "text": [
      "['Mary', 'Am']\n"
     ]
    }
   ],
   "source": [
    "def pickword(sentence,ch):\n",
    "    wordlist = sentence.split()\n",
    "    picklist =[];\n",
    "    for item in wordlist:\n",
    "        if ch.lower() in item.lower():\n",
    "            picklist.append(item)\n",
    "    return picklist\n",
    "\n",
    "mylist=pickword('Mary Am john','A')\n",
    "print(mylist)"
   ]
  },
  {
   "cell_type": "markdown",
   "metadata": {},
   "source": [
    "### 團體第四題"
   ]
  },
  {
   "cell_type": "code",
   "execution_count": 6,
   "metadata": {},
   "outputs": [
    {
     "name": "stdout",
     "output_type": "stream",
     "text": [
      "==================\n",
      "| 1: 加一         |\n",
      "| 2: 減一         |\n",
      "| 3: 離開         |\n",
      "==================\n",
      "Option: 2\n",
      "Current Number is   -1\n",
      "==================\n",
      "| 1: 加一         |\n",
      "| 2: 減一         |\n",
      "| 3: 離開         |\n",
      "==================\n",
      "Option: 2\n",
      "Current Number is   -2\n",
      "==================\n",
      "| 1: 加一         |\n",
      "| 2: 減一         |\n",
      "| 3: 離開         |\n",
      "==================\n",
      "Option: 1\n",
      "Current Number is   -1\n",
      "==================\n",
      "| 1: 加一         |\n",
      "| 2: 減一         |\n",
      "| 3: 離開         |\n",
      "==================\n",
      "Option: 1\n",
      "Current Number is    0\n",
      "==================\n",
      "| 1: 加一         |\n",
      "| 2: 減一         |\n",
      "| 3: 離開         |\n",
      "==================\n",
      "Option: 1\n",
      "Current Number is    1\n",
      "==================\n",
      "| 1: 加一         |\n",
      "| 2: 減一         |\n",
      "| 3: 離開         |\n",
      "==================\n",
      "Option: 4\n",
      "*** Wrong option! Try again!! ***\n",
      "==================\n",
      "| 1: 加一         |\n",
      "| 2: 減一         |\n",
      "| 3: 離開         |\n",
      "==================\n",
      "Option: t\n",
      "*** Wrong option! Try again!! ***\n",
      "==================\n",
      "| 1: 加一         |\n",
      "| 2: 減一         |\n",
      "| 3: 離開         |\n",
      "==================\n",
      "Option: 3\n"
     ]
    }
   ],
   "source": [
    "item=''\n",
    "curNum=0\n",
    "option_list=['1','2','3']\n",
    "\n",
    "while(item!='3'):\n",
    "    print('==================')\n",
    "    print('| 1: 加一         |')\n",
    "    print('| 2: 減一         |')\n",
    "    print('| 3: 離開         |')\n",
    "    print('==================')\n",
    "    item = input('Option: ')\n",
    "    \n",
    "    if (item not in option_list):\n",
    "        print('*** Wrong option! Try again!! ***')\n",
    "    else:\n",
    "        # compute current number\n",
    "        if (item=='1'):\n",
    "            curNum = curNum+1\n",
    "        elif(item=='2'):\n",
    "            curNum = curNum-1\n",
    "        else:\n",
    "            pass\n",
    "\n",
    "        # print current number\n",
    "        if item!='3':\n",
    "            print(f'Current Number is {curNum:4,d}')"
   ]
  },
  {
   "cell_type": "code",
   "execution_count": null,
   "metadata": {
    "collapsed": true
   },
   "outputs": [],
   "source": []
  }
 ],
 "metadata": {
  "kernelspec": {
   "display_name": "Python 3",
   "language": "python",
   "name": "python3"
  },
  "language_info": {
   "codemirror_mode": {
    "name": "ipython",
    "version": 3
   },
   "file_extension": ".py",
   "mimetype": "text/x-python",
   "name": "python",
   "nbconvert_exporter": "python",
   "pygments_lexer": "ipython3",
   "version": "3.6.4"
  }
 },
 "nbformat": 4,
 "nbformat_minor": 2
}
