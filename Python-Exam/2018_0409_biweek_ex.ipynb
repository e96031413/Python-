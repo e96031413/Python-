{
 "cells": [
  {
   "cell_type": "markdown",
   "metadata": {
    "collapsed": true
   },
   "source": [
    "## 團體練習第一題"
   ]
  },
  {
   "cell_type": "code",
   "execution_count": 14,
   "metadata": {},
   "outputs": [
    {
     "name": "stdout",
     "output_type": "stream",
     "text": [
      "抽到3的倍數之機率0.504\n",
      "抽到不是3的倍數之機率0.496\n"
     ]
    }
   ],
   "source": [
    "import random\n",
    "def skewDraw(num):\n",
    "    numThree = list(range(3,num,3))\n",
    "    numOther = list(set(range(1,num+1))-set(numThree))\n",
    "    dice=random.randint(0,1)\n",
    "    if dice==0:\n",
    "        idx = random.randint(0,len(numThree)-1)\n",
    "        return numThree[idx]\n",
    "    else:\n",
    "        idx = random.randint(0,len(numOther)-1)\n",
    "        return numOther[idx]\n",
    "    \n",
    "times=10000\n",
    "cnt=0\n",
    "for i in range(0,times):\n",
    "    draw = skewDraw(100)\n",
    "    if draw%3==0:\n",
    "        cnt=cnt+1\n",
    "print(f'抽到3的倍數之機率{cnt/times}')\n",
    "print(f'抽到不是3的倍數之機率{1-cnt/times}')"
   ]
  },
  {
   "cell_type": "markdown",
   "metadata": {},
   "source": [
    "## 團體練習第二題"
   ]
  },
  {
   "cell_type": "code",
   "execution_count": 9,
   "metadata": {},
   "outputs": [
    {
     "name": "stdout",
     "output_type": "stream",
     "text": [
      "6 : [1, 2, 3, 6]\n",
      "7 : [1, 7]\n",
      "8 : [1, 2, 4, 8]\n",
      "9 : [1, 3, 9]\n",
      "10 : [1, 2, 5, 10]\n"
     ]
    }
   ],
   "source": [
    "def factor(num):\n",
    "    faclist=[]\n",
    "    for i in range(1,num+1):\n",
    "        if num%i==0:\n",
    "            faclist.append(i)\n",
    "    return faclist\n",
    "\n",
    "mylist = [6,7,8,9,10]\n",
    "result = map(factor,mylist)\n",
    "for i,item in enumerate(result):\n",
    "    print(mylist[i],':',item)\n",
    "    cnt=cnt+1"
   ]
  },
  {
   "cell_type": "markdown",
   "metadata": {},
   "source": [
    "## 團體練習第三題"
   ]
  },
  {
   "cell_type": "code",
   "execution_count": 17,
   "metadata": {},
   "outputs": [
    {
     "name": "stdout",
     "output_type": "stream",
     "text": [
      "<class 'generator'>\n",
      "7\n",
      "2\n",
      "3\n",
      "2\n",
      "7\n",
      "11\n",
      "11\n",
      "3\n",
      "7\n",
      "7\n",
      "3\n",
      "3\n",
      "3\n",
      "11\n",
      "7\n",
      "2\n",
      "11\n",
      "7\n",
      "7\n"
     ]
    }
   ],
   "source": [
    "import random\n",
    "\n",
    "def primegen(num):\n",
    "    primelist = []\n",
    "    for n in range(2,num+1):\n",
    "        flag=0\n",
    "        for i in range(2,n):\n",
    "            if n%i==0:\n",
    "                flag=1\n",
    "                break\n",
    "        if flag==0:\n",
    "            primelist.append(n)\n",
    "    \n",
    "    while(True):\n",
    "        ind = random.randint(0,len(primelist)-1)\n",
    "        yield primelist[ind]\n",
    "\n",
    "mygen = primegen(12)\n",
    "print(type(mygen))\n",
    "for i in range(1,20):\n",
    "    print(next(mygen))"
   ]
  },
  {
   "cell_type": "markdown",
   "metadata": {},
   "source": [
    "## 團體練習第四題"
   ]
  },
  {
   "cell_type": "code",
   "execution_count": 18,
   "metadata": {},
   "outputs": [
    {
     "name": "stdout",
     "output_type": "stream",
     "text": [
      "4\n",
      "24\n",
      "False\n",
      "True\n"
     ]
    }
   ],
   "source": [
    "# 已撰寫 mynumbers.py\n",
    "import mynumbers\n",
    "\n",
    "gcdnum = mynumbers.gcd(12,8)\n",
    "print(gcdnum)\n",
    "\n",
    "lcmnum = mynumbers.lcm(12,8)\n",
    "print(lcmnum)\n",
    "\n",
    "print(mynumbers.coprime(12,8))\n",
    "\n",
    "print(mynumbers.coprime(13,8))"
   ]
  },
  {
   "cell_type": "code",
   "execution_count": null,
   "metadata": {
    "collapsed": true
   },
   "outputs": [],
   "source": []
  }
 ],
 "metadata": {
  "kernelspec": {
   "display_name": "Python 3",
   "language": "python",
   "name": "python3"
  },
  "language_info": {
   "codemirror_mode": {
    "name": "ipython",
    "version": 3
   },
   "file_extension": ".py",
   "mimetype": "text/x-python",
   "name": "python",
   "nbconvert_exporter": "python",
   "pygments_lexer": "ipython3",
   "version": "3.6.3"
  }
 },
 "nbformat": 4,
 "nbformat_minor": 2
}
